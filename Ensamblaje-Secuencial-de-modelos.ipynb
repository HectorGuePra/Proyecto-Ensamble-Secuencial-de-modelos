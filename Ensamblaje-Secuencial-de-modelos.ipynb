{
 "cells": [
  {
   "cell_type": "code",
   "execution_count": null,
   "id": "2e983b20",
   "metadata": {},
   "outputs": [],
   "source": [
    "import pandas as pd\n",
    "import numpy as np\n",
    "import matplotlib.pyplot as plt\n",
    "from sklearn.model_selection import train_test_split\n",
    "from sklearn.preprocessing import LabelEncoder\n",
    "from sklearn.tree import DecisionTreeRegressor\n",
    "from sklearn.metrics import r2_score, mean_absolute_error\n",
    "from sklearn.base import BaseEstimator, RegressorMixin, clone\n",
    "from sklearn.model_selection import cross_val_score, KFold\n",
    "from sklearn.linear_model import LinearRegression"
   ]
  },
  {
   "cell_type": "code",
   "execution_count": 35,
   "id": "5aadc5b9",
   "metadata": {},
   "outputs": [],
   "source": [
    "house = pd.read_csv('house_prices.csv')\n",
    "parkinson = pd.read_csv('parkinsons.csv')"
   ]
  },
  {
   "cell_type": "code",
   "execution_count": 36,
   "id": "ffc19765",
   "metadata": {},
   "outputs": [
    {
     "name": "stdout",
     "output_type": "stream",
     "text": [
      "Columnas categóricas en house: ['Condition2', 'LandContour', 'HouseStyle', 'GarageType', 'FireplaceQu', 'Alley', 'MSZoning', 'CentralAir', 'GarageCond', 'Exterior2nd', 'BsmtFinType2', 'GarageQual', 'ExterQual', 'PavedDrive', 'LotShape', 'KitchenQual', 'SaleType', 'BsmtExposure', 'ExterCond', 'BsmtQual', 'MiscFeature', 'PoolQC']\n"
     ]
    }
   ],
   "source": [
    "cat_cols = house.select_dtypes(include=['object']).columns.tolist()\n",
    "print(\"Columnas categóricas en house:\", cat_cols)"
   ]
  },
  {
   "cell_type": "code",
   "execution_count": 37,
   "id": "ab7541c8",
   "metadata": {},
   "outputs": [],
   "source": [
    "house_enc = pd.get_dummies(house, columns=cat_cols, drop_first=True)"
   ]
  },
  {
   "cell_type": "markdown",
   "id": "6ae28ffe",
   "metadata": {},
   "source": [
    "#Separar features y target en house"
   ]
  },
  {
   "cell_type": "code",
   "execution_count": 38,
   "id": "a2ea5d6f",
   "metadata": {},
   "outputs": [
    {
     "name": "stdout",
     "output_type": "stream",
     "text": [
      "Dimensiones X_house: (560, 109)\n",
      "Dimensiones y_house: (560,)\n"
     ]
    }
   ],
   "source": [
    "X_house = house_enc.drop('SalePrice', axis=1)\n",
    "y_house = house_enc['SalePrice']\n",
    "print(\"Dimensiones X_house:\", X_house.shape)\n",
    "print(\"Dimensiones y_house:\", y_house.shape)"
   ]
  },
  {
   "cell_type": "markdown",
   "id": "19ce5436",
   "metadata": {},
   "source": [
    "#Para Parkinsons no hay categóricas, solo separamos"
   ]
  },
  {
   "cell_type": "code",
   "execution_count": 39,
   "id": "210040fe",
   "metadata": {},
   "outputs": [
    {
     "name": "stdout",
     "output_type": "stream",
     "text": [
      "Dimensiones X_parkinson: (2000, 19)\n",
      "Dimensiones y_parkinson: (2000,)\n"
     ]
    }
   ],
   "source": [
    "X_parkinson = parkinson.drop('total_UPDRS', axis=1)\n",
    "y_parkinson = parkinson['total_UPDRS']\n",
    "print(\"Dimensiones X_parkinson:\", X_parkinson.shape)\n",
    "print(\"Dimensiones y_parkinson:\", y_parkinson.shape)"
   ]
  },
  {
   "cell_type": "markdown",
   "id": "d423696a",
   "metadata": {},
   "source": [
    "#Train test split para los dos"
   ]
  },
  {
   "cell_type": "code",
   "execution_count": 40,
   "id": "2ceda06a",
   "metadata": {},
   "outputs": [
    {
     "name": "stdout",
     "output_type": "stream",
     "text": [
      "House split: (448, 109) (112, 109) (448,) (112,)\n"
     ]
    }
   ],
   "source": [
    "Xh_train, Xh_test, yh_train, yh_test = train_test_split(\n",
    "    X_house, y_house, test_size=0.2, random_state=42\n",
    ")\n",
    "print(\"House split:\", Xh_train.shape, Xh_test.shape, yh_train.shape, yh_test.shape)"
   ]
  },
  {
   "cell_type": "code",
   "execution_count": 41,
   "id": "7e29d8cc",
   "metadata": {},
   "outputs": [
    {
     "name": "stdout",
     "output_type": "stream",
     "text": [
      "Parkinsons split: (1600, 19) (400, 19) (1600,) (400,)\n"
     ]
    }
   ],
   "source": [
    "Xp_train, Xp_test, yp_train, yp_test = train_test_split(\n",
    "    X_parkinson, y_parkinson, test_size=0.2, random_state=42\n",
    ")\n",
    "print(\"Parkinsons split:\", Xp_train.shape, Xp_test.shape, yp_train.shape, yp_test.shape)\n"
   ]
  },
  {
   "cell_type": "code",
   "execution_count": null,
   "id": "0ee894af",
   "metadata": {},
   "outputs": [],
   "source": [
    "class SequentialEnsembleRegressor(BaseEstimator, RegressorMixin):\n",
    "    def __init__(self,\n",
    "                 estimator=None,\n",
    "                 n_estimators=50,\n",
    "                 sample_size=0.8,\n",
    "                 lr=0.1,\n",
    "                 random_state=None,\n",
    "                 **estimator_params):\n",
    "        self.estimator = estimator\n",
    "        self.n_estimators = n_estimators\n",
    "        self.sample_size = sample_size\n",
    "        self.lr = lr\n",
    "        self.random_state = random_state\n",
    "        self.estimator_params = estimator_params\n",
    "\n",
    "    def fit(self, X, y):\n",
    "        self.models = []\n",
    "        pred = np.zeros_like(y, dtype=float)\n",
    "        rng = np.random.RandomState(self.random_state)\n",
    "        n_samples = X.shape[0]\n",
    "        for m in range(self.n_estimators):\n",
    "            resid = y - pred\n",
    "            k = int(self.sample_size * n_samples)\n",
    "            idx = rng.choice(n_samples, k, replace=False)\n",
    "            X_sub = X.iloc[idx]\n",
    "            y_sub = resid.iloc[idx] if hasattr(resid, \"iloc\") else resid[idx]\n",
    "            model = clone(self.estimator)\n",
    "            if self.estimator_params:\n",
    "                model.set_params(**self.estimator_params)\n",
    "            model.fit(X_sub, y_sub)\n",
    "            self.models.append(model)\n",
    "            pred += self.lr * model.predict(X)\n",
    "        return self\n",
    "\n",
    "    def predict(self, X):\n",
    "        pred = np.zeros(X.shape[0], dtype=float)\n",
    "        for m in self.models:\n",
    "            pred += self.lr * m.predict(X)\n",
    "        return pred"
   ]
  },
  {
   "cell_type": "markdown",
   "id": "61c59e09",
   "metadata": {},
   "source": [
    "Evaluar Housing"
   ]
  },
  {
   "cell_type": "code",
   "execution_count": 43,
   "id": "ae5c0205",
   "metadata": {},
   "outputs": [],
   "source": [
    "ens_h = SequentialEnsembleRegressor(\n",
    "    estimator=DecisionTreeRegressor(),\n",
    "    n_estimators=50,\n",
    "    sample_size=0.8,\n",
    "    lr=0.1,\n",
    "    random_state=42,\n",
    "    max_depth=3\n",
    ")"
   ]
  },
  {
   "cell_type": "code",
   "execution_count": 44,
   "id": "37757d6b",
   "metadata": {},
   "outputs": [
    {
     "name": "stdout",
     "output_type": "stream",
     "text": [
      "House R²: 0.6760382492932894\n",
      "House MAE: 28603.289133548788\n"
     ]
    }
   ],
   "source": [
    "ens_h.fit(Xh_train, yh_train)\n",
    "yh_pred = ens_h.predict(Xh_test)\n",
    "print(\"House R²:\", r2_score(yh_test, yh_pred))\n",
    "print(\"House MAE:\", mean_absolute_error(yh_test, yh_pred))"
   ]
  },
  {
   "cell_type": "markdown",
   "id": "1c243067",
   "metadata": {},
   "source": [
    "Evaluar parkingson"
   ]
  },
  {
   "cell_type": "code",
   "execution_count": 45,
   "id": "f629cf8c",
   "metadata": {},
   "outputs": [],
   "source": [
    "ens_p = SequentialEnsembleRegressor(\n",
    "    estimator=DecisionTreeRegressor(),\n",
    "    n_estimators=50,\n",
    "    sample_size=0.8,\n",
    "    lr=0.1,\n",
    "    random_state=42,\n",
    "    max_depth=3\n",
    ")"
   ]
  },
  {
   "cell_type": "code",
   "execution_count": 46,
   "id": "8d6b85bb",
   "metadata": {},
   "outputs": [
    {
     "name": "stdout",
     "output_type": "stream",
     "text": [
      "Parkinsons R²: 0.6666546286487727\n",
      "Parkinsons MAE: 4.844044073631054\n"
     ]
    }
   ],
   "source": [
    "ens_p.fit(Xp_train, yp_train)\n",
    "yp_pred = ens_p.predict(Xp_test)\n",
    "print(\"Parkinsons R²:\", r2_score(yp_test, yp_pred))\n",
    "print(\"Parkinsons MAE:\", mean_absolute_error(yp_test, yp_pred))"
   ]
  },
  {
   "cell_type": "markdown",
   "id": "c9266e95",
   "metadata": {},
   "source": [
    "Validación cruzada y busqueda de hiperparametros"
   ]
  },
  {
   "cell_type": "code",
   "execution_count": null,
   "id": "a150560d",
   "metadata": {},
   "outputs": [
    {
     "name": "stdout",
     "output_type": "stream",
     "text": [
      "House CV R²: [0.73142608 0.77377505 0.7757943  0.78769204 0.79441317] → Media: 0.7726201277897204\n"
     ]
    }
   ],
   "source": [
    "cv = KFold(n_splits=5, shuffle=True, random_state=42)\n",
    "scores = cross_val_score(\n",
    "    SequentialEnsembleRegressor(\n",
    "        estimator=DecisionTreeRegressor(max_depth=3),\n",
    "        n_estimators=50, sample_size=0.8, lr=0.1, random_state=42\n",
    "    ),\n",
    "    Xh_train, yh_train,\n",
    "    scoring='r2', cv=cv, n_jobs=-1\n",
    ")\n",
    "print(\"House CV R²:\", scores, \"→ Media:\", scores.mean())"
   ]
  },
  {
   "cell_type": "code",
   "execution_count": 48,
   "id": "56798fa0",
   "metadata": {},
   "outputs": [],
   "source": [
    "#Modelo base con hiperparámetros iniciales\n",
    "base_model = SequentialEnsembleRegressor(\n",
    "    estimator=DecisionTreeRegressor(max_depth=3),\n",
    "    n_estimators=50,\n",
    "    sample_size=0.8,\n",
    "    lr=0.1,\n",
    "    random_state=42\n",
    ")"
   ]
  },
  {
   "cell_type": "code",
   "execution_count": 49,
   "id": "7be4e4f0",
   "metadata": {},
   "outputs": [
    {
     "name": "stdout",
     "output_type": "stream",
     "text": [
      "House CV R² scores: [0.73193394 0.77791167 0.76817274 0.77689717 0.78820782]\n",
      "Media R²: 0.7686246652244594\n"
     ]
    }
   ],
   "source": [
    "scores_house = cross_val_score(\n",
    "    base_model, Xh_train, yh_train,\n",
    "    scoring='r2', cv=cv, n_jobs=-1\n",
    ")\n",
    "print(\"House CV R² scores:\", scores_house)\n",
    "print(\"Media R²:\", scores_house.mean())"
   ]
  },
  {
   "cell_type": "markdown",
   "id": "15964a09",
   "metadata": {},
   "source": [
    "Parkinson"
   ]
  },
  {
   "cell_type": "code",
   "execution_count": 50,
   "id": "0f2816d7",
   "metadata": {},
   "outputs": [
    {
     "name": "stdout",
     "output_type": "stream",
     "text": [
      "Parkinsons CV R² scores: [0.63117863 0.6606221  0.58556199 0.65776949 0.6785615 ]\n",
      "Media R²: 0.6427387400343975\n"
     ]
    }
   ],
   "source": [
    "scores_parkinson = cross_val_score(\n",
    "    base_model, Xp_train, yp_train,\n",
    "    scoring='r2', cv=cv, n_jobs=-1\n",
    ")\n",
    "print(\"Parkinsons CV R² scores:\", scores_parkinson)\n",
    "print(\"Media R²:\", scores_parkinson.mean())"
   ]
  },
  {
   "cell_type": "markdown",
   "id": "76742f22",
   "metadata": {},
   "source": [
    "Busqueda manual de hiperparámetros"
   ]
  },
  {
   "cell_type": "code",
   "execution_count": 51,
   "id": "4da2a1a9",
   "metadata": {},
   "outputs": [
    {
     "name": "stdout",
     "output_type": "stream",
     "text": [
      "Top 10 combos House:\n",
      "    n_estimators   lr  sample_size  max_depth   r2_mean\n",
      "0           100  0.1          0.6          3  0.771539\n",
      "1           100  0.1          0.8          7  0.766776\n",
      "2            50  0.1          0.6          3  0.766628\n",
      "3           100  0.2          0.6          3  0.761672\n",
      "4           100  0.1          0.8          3  0.761471\n",
      "5           100  0.1          0.6          5  0.760652\n",
      "6            50  0.1          0.8          7  0.759123\n",
      "7            50  0.1          0.6          5  0.757473\n",
      "8           100  0.1          0.6          7  0.756403\n",
      "9            50  0.2          0.8          5  0.755908\n"
     ]
    }
   ],
   "source": [
    "param_grid = {\n",
    "    'n_estimators': [10, 50, 100],\n",
    "    'lr': [0.01, 0.1, 0.2],\n",
    "    'sample_size': [0.6, 0.8, 1.0],\n",
    "    'max_depth': [3, 5, 7]\n",
    "}\n",
    "\n",
    "results = []\n",
    "for n in param_grid['n_estimators']:\n",
    "    for lr in param_grid['lr']:\n",
    "        for s in param_grid['sample_size']:\n",
    "            for md in param_grid['max_depth']:\n",
    "                model = SequentialEnsembleRegressor(\n",
    "                    estimator=DecisionTreeRegressor(),\n",
    "                    n_estimators=n,\n",
    "                    lr=lr,\n",
    "                    sample_size=s,\n",
    "                    random_state=42,\n",
    "                    max_depth=md\n",
    "                )\n",
    "                scores = cross_val_score(\n",
    "                    model, Xh_train, yh_train,\n",
    "                    scoring='r2', cv=cv, n_jobs=-1\n",
    "                )\n",
    "                results.append({\n",
    "                    'n_estimators': n,\n",
    "                    'lr': lr,\n",
    "                    'sample_size': s,\n",
    "                    'max_depth': md,\n",
    "                    'r2_mean': scores.mean()\n",
    "                })\n",
    "\n",
    "df_results = pd.DataFrame(results)\n",
    "df_results = df_results.sort_values('r2_mean', ascending=False).reset_index(drop=True)\n",
    "print(\"Top 10 combos House:\\n\", df_results.head(10))\n"
   ]
  },
  {
   "cell_type": "code",
   "execution_count": 52,
   "id": "37a6efb7",
   "metadata": {},
   "outputs": [],
   "source": [
    "# Mejor combinación encontrada:\n",
    "# n_estimators=100\n",
    "# lr=0.1\n",
    "# sample_size=0.6\n",
    "# max_depth=5\n",
    "# r2_mean≈0.7721\n",
    "#CV (5-fold) sobre train → media R² ≈ 0.7639\n",
    "\n",
    "# Observaciones rápidas:\n",
    "# Aumentar n_estimators a 100 sigue mejorando ligeramente el R².\n",
    "# Un sample_size más pequeño (0.6) favorece la diversidad de los modelos débiles.\n",
    "# Profundidades intermedias (max_depth=5) suelen dar mejores resultados que muy superficiales o muy profundas."
   ]
  },
  {
   "cell_type": "code",
   "execution_count": 53,
   "id": "99f53928",
   "metadata": {},
   "outputs": [
    {
     "name": "stdout",
     "output_type": "stream",
     "text": [
      "Top 5 combos Parkinsons:\n",
      "    n_estimators   lr  sample_size  max_depth   r2_mean\n",
      "0            50  0.1          0.8          5  0.917478\n",
      "1           100  0.1          0.8          7  0.916439\n",
      "2           100  0.1          0.8          5  0.916409\n",
      "3            50  0.1          0.8          3  0.916370\n",
      "4           100  0.1          0.8          3  0.916237\n"
     ]
    }
   ],
   "source": [
    "results_p = []\n",
    "for n in param_grid['n_estimators']:\n",
    "    for lr in param_grid['lr']:\n",
    "        for s in param_grid['sample_size']:\n",
    "            for md in param_grid['max_depth']:\n",
    "                model = SequentialEnsembleRegressor(\n",
    "                    estimator=DecisionTreeRegressor(),\n",
    "                    n_estimators=n,\n",
    "                    lr=lr,\n",
    "                    sample_size=s,\n",
    "                    random_state=42,\n",
    "                    max_depth=md\n",
    "                )\n",
    "                scores = cross_val_score(\n",
    "                    model, Xp_train, yp_train,\n",
    "                    scoring='r2', cv=cv, n_jobs=-1\n",
    "                )\n",
    "                results_p.append({\n",
    "                    'n_estimators': n,\n",
    "                    'lr': lr,\n",
    "                    'sample_size': s,\n",
    "                    'max_depth': md,\n",
    "                    'r2_mean': scores.mean()\n",
    "                })\n",
    "\n",
    "df_p = pd.DataFrame(results_p)\n",
    "df_p = df_p.sort_values('r2_mean', ascending=False).reset_index(drop=True)\n",
    "print(\"Top 5 combos Parkinsons:\\n\", df_p.head(5))"
   ]
  },
  {
   "cell_type": "markdown",
   "id": "818b27da",
   "metadata": {},
   "source": [
    "Evaluación en test con los mejores hiperparámetros"
   ]
  },
  {
   "cell_type": "code",
   "execution_count": 54,
   "id": "de3413aa",
   "metadata": {},
   "outputs": [
    {
     "name": "stdout",
     "output_type": "stream",
     "text": [
      "House Test R²: 0.6860433508904503\n",
      "House Test MAE: 28189.542855420998\n"
     ]
    }
   ],
   "source": [
    "best_house = SequentialEnsembleRegressor(\n",
    "    estimator=DecisionTreeRegressor(),\n",
    "    n_estimators=100,\n",
    "    lr=0.1,\n",
    "    sample_size=0.6,\n",
    "    random_state=42,\n",
    "    max_depth=5\n",
    ")\n",
    "best_house.fit(Xh_train, yh_train)\n",
    "yh_test_pred = best_house.predict(Xh_test)\n",
    "print(\"House Test R²:\", r2_score(yh_test, yh_test_pred))\n",
    "print(\"House Test MAE:\", mean_absolute_error(yh_test, yh_test_pred))\n"
   ]
  },
  {
   "cell_type": "code",
   "execution_count": 55,
   "id": "df5bc77e",
   "metadata": {},
   "outputs": [
    {
     "name": "stdout",
     "output_type": "stream",
     "text": [
      "Parkinsons Test R²: 0.9203707106305425\n",
      "Parkinsons Test MAE: 1.9512256226341753\n"
     ]
    }
   ],
   "source": [
    "best_park = SequentialEnsembleRegressor(\n",
    "    estimator=DecisionTreeRegressor(),\n",
    "    n_estimators=100,\n",
    "    lr=0.1,\n",
    "    sample_size=0.8,\n",
    "    random_state=42,\n",
    "    max_depth=7\n",
    ")\n",
    "best_park.fit(Xp_train, yp_train)\n",
    "yp_test_pred = best_park.predict(Xp_test)\n",
    "print(\"Parkinsons Test R²:\", r2_score(yp_test, yp_test_pred))\n",
    "print(\"Parkinsons Test MAE:\", mean_absolute_error(yp_test, yp_test_pred))"
   ]
  },
  {
   "cell_type": "code",
   "execution_count": null,
   "id": "e416ea2d",
   "metadata": {},
   "outputs": [],
   "source": []
  },
  {
   "cell_type": "code",
   "execution_count": null,
   "id": "e8aafb8e",
   "metadata": {},
   "outputs": [
    {
     "name": "stdout",
     "output_type": "stream",
     "text": [
      "R² con early stopping: 0.6568492083061743\n",
      "MAE con early stopping: 29666.000529760913\n"
     ]
    }
   ],
   "source": [
    "class SequentialEnsembleRegressorEarlyStopping(BaseEstimator, RegressorMixin):\n",
    "    def __init__(self, estimator=None, n_estimators=50, sample_size=0.8, lr=0.1, random_state=None, patience=10, **estimator_params):\n",
    "        self.estimator = estimator\n",
    "        self.n_estimators = n_estimators\n",
    "        self.sample_size = sample_size\n",
    "        self.lr = lr\n",
    "        self.random_state = random_state\n",
    "        self.patience = patience\n",
    "        self.estimator_params = estimator_params\n",
    "\n",
    "    def fit(self, X, y, X_val=None, y_val=None):\n",
    "        self.models = []\n",
    "        pred = np.zeros_like(y, dtype=float)\n",
    "        rng = np.random.RandomState(self.random_state)\n",
    "        n_samples = X.shape[0]\n",
    "        best_score = -np.inf\n",
    "        best_iter = 0\n",
    "        patience_counter = 0\n",
    "        val_scores = []\n",
    "        for m in range(self.n_estimators):\n",
    "            resid = y - pred\n",
    "            k = int(self.sample_size * n_samples)\n",
    "            idx = rng.choice(n_samples, k, replace=False)\n",
    "            X_sub = X.iloc[idx]\n",
    "            y_sub = resid.iloc[idx] if hasattr(resid, \"iloc\") else resid[idx]\n",
    "            model = clone(self.estimator)\n",
    "            if self.estimator_params:\n",
    "                model.set_params(**self.estimator_params)\n",
    "            model.fit(X_sub, y_sub)\n",
    "            self.models.append(model)\n",
    "            pred += self.lr * model.predict(X)\n",
    "            # Early stopping logic\n",
    "            if X_val is not None and y_val is not None:\n",
    "                val_pred = self.predict(X_val)\n",
    "                score = r2_score(y_val, val_pred)\n",
    "                val_scores.append(score)\n",
    "                if score > best_score:\n",
    "                    best_score = score\n",
    "                    best_iter = m\n",
    "                    patience_counter = 0\n",
    "                else:\n",
    "                    patience_counter += 1\n",
    "                if patience_counter >= self.patience:\n",
    "                    # Keep only the best models\n",
    "                    self.models = self.models[:best_iter+1]\n",
    "                    break\n",
    "        return self\n",
    "\n",
    "    def predict(self, X):\n",
    "        pred = np.zeros(X.shape[0], dtype=float)\n",
    "        for m in self.models:\n",
    "            pred += self.lr * m.predict(X)\n",
    "        return pred\n",
    "\n",
    "# Split a validation set from the training data for early stopping\n",
    "Xh_tr, Xh_val, yh_tr, yh_val = train_test_split(Xh_train, yh_train, test_size=0.2, random_state=42)\n",
    "\n",
    "es = SequentialEnsembleRegressorEarlyStopping(\n",
    "    estimator=DecisionTreeRegressor(max_depth=5),\n",
    "    n_estimators=100,\n",
    "    sample_size=0.6,\n",
    "    lr=0.1,\n",
    "    random_state=42,\n",
    "    patience=10\n",
    ")\n",
    "es.fit(Xh_tr, yh_tr, X_val=Xh_val, y_val=yh_val)\n",
    "\n",
    "yh_es = es.predict(Xh_test)\n",
    "print(\"R² con early stopping:\", r2_score(yh_test, yh_es))\n",
    "print(\"MAE con early stopping:\", mean_absolute_error(yh_test, yh_es))"
   ]
  },
  {
   "cell_type": "markdown",
   "id": "e2005fd8",
   "metadata": {},
   "source": [
    "================================"
   ]
  },
  {
   "cell_type": "markdown",
   "id": "6ddc5d3e",
   "metadata": {},
   "source": [
    "Validación cruzada inicial con LinearRegression"
   ]
  },
  {
   "cell_type": "code",
   "execution_count": 58,
   "id": "14cb5a39",
   "metadata": {},
   "outputs": [
    {
     "name": "stdout",
     "output_type": "stream",
     "text": [
      "House CV R² (LR): [0.61091079 0.77326417 0.65353687 0.82132503 0.44813318] → media: 0.661434009385928\n",
      "Parkinsons CV R² (LR): [0.20771185 0.22932094 0.12436079 0.12846975 0.13593885] → media: 0.16516043553660498\n"
     ]
    }
   ],
   "source": [
    "base_lr = SequentialEnsembleRegressor(\n",
    "    estimator=LinearRegression(),\n",
    "    n_estimators=50,\n",
    "    sample_size=0.8,\n",
    "    lr=0.1,\n",
    "    random_state=42\n",
    ")\n",
    "\n",
    "scores_h_lr = cross_val_score(base_lr, Xh_train, yh_train, \n",
    "                              scoring='r2', cv=cv, n_jobs=-1)\n",
    "scores_p_lr = cross_val_score(base_lr, Xp_train, yp_train, \n",
    "                              scoring='r2', cv=cv, n_jobs=-1)\n",
    "\n",
    "print(\"House CV R² (LR):\", scores_h_lr, \"→ media:\", scores_h_lr.mean())\n",
    "print(\"Parkinsons CV R² (LR):\", scores_p_lr, \"→ media:\", scores_p_lr.mean())"
   ]
  },
  {
   "cell_type": "markdown",
   "id": "1b13ad15",
   "metadata": {},
   "source": [
    "Busqueda manual de mejores hiperparámetros"
   ]
  },
  {
   "cell_type": "code",
   "execution_count": 59,
   "id": "2ec8cc39",
   "metadata": {},
   "outputs": [
    {
     "name": "stdout",
     "output_type": "stream",
     "text": [
      "Top 5 combos House (LR):\n",
      "     n_estimators   lr  sample_size  fit_intercept   r2_mean\n",
      "29            50  0.1          1.0          False  0.703009\n",
      "28            50  0.1          1.0           True  0.703009\n",
      "47           100  0.1          1.0          False  0.701917\n",
      "46           100  0.1          1.0           True  0.701917\n",
      "35            50  0.2          1.0          False  0.701913\n",
      "\n",
      "Top 5 combos Parkinsons (LR):\n",
      "     n_estimators   lr  sample_size  fit_intercept   r2_mean\n",
      "33            50  0.2          0.8          False  0.165678\n",
      "32            50  0.2          0.8           True  0.165678\n",
      "27            50  0.1          0.8          False  0.165160\n",
      "26            50  0.1          0.8           True  0.165160\n",
      "51           100  0.2          0.8          False  0.165142\n"
     ]
    }
   ],
   "source": [
    "param_grid = {\n",
    "    'n_estimators': [10, 50, 100],\n",
    "    'lr': [0.01, 0.1, 0.2],\n",
    "    'sample_size': [0.6, 0.8, 1.0],\n",
    "    'fit_intercept': [True, False]\n",
    "}\n",
    "\n",
    "def grid_search(X, y):\n",
    "    results = []\n",
    "    for n in param_grid['n_estimators']:\n",
    "        for lr in param_grid['lr']:\n",
    "            for s in param_grid['sample_size']:\n",
    "                for fi in param_grid['fit_intercept']:\n",
    "                    model = SequentialEnsembleRegressor(\n",
    "                        estimator=LinearRegression(),\n",
    "                        n_estimators=n,\n",
    "                        lr=lr,\n",
    "                        sample_size=s,\n",
    "                        random_state=42,\n",
    "                        fit_intercept=fi\n",
    "                    )\n",
    "                    scores = cross_val_score(\n",
    "                        model, X, y, scoring='r2', cv=cv, n_jobs=-1\n",
    "                    )\n",
    "                    results.append({\n",
    "                        'n_estimators': n,\n",
    "                        'lr': lr,\n",
    "                        'sample_size': s,\n",
    "                        'fit_intercept': fi,\n",
    "                        'r2_mean': scores.mean()\n",
    "                    })\n",
    "    return pd.DataFrame(results).sort_values('r2_mean', ascending=False)\n",
    "\n",
    "df_h_lr = grid_search(Xh_train, yh_train)\n",
    "df_p_lr = grid_search(Xp_train, yp_train)\n",
    "\n",
    "print(\"Top 5 combos House (LR):\\n\", df_h_lr.head(5))\n",
    "print(\"\\nTop 5 combos Parkinsons (LR):\\n\", df_p_lr.head(5))"
   ]
  },
  {
   "cell_type": "markdown",
   "id": "4ece717e",
   "metadata": {},
   "source": [
    "Evaluación final del test"
   ]
  },
  {
   "cell_type": "code",
   "execution_count": 60,
   "id": "282b6fd4",
   "metadata": {},
   "outputs": [
    {
     "name": "stdout",
     "output_type": "stream",
     "text": [
      "House Test (LR) R²: 0.7874562047260576 MAE: 25036.264220148114\n"
     ]
    }
   ],
   "source": [
    "#Extraer top-1 de House\n",
    "best_h = df_h_lr.iloc[0]\n",
    "best_lr_h = SequentialEnsembleRegressor(\n",
    "    estimator=LinearRegression(),\n",
    "    n_estimators=int(best_h['n_estimators']),\n",
    "    lr=float(best_h['lr']),\n",
    "    sample_size=float(best_h['sample_size']),\n",
    "    random_state=42,\n",
    "    fit_intercept=bool(best_h['fit_intercept'])\n",
    ")\n",
    "best_lr_h.fit(Xh_train, yh_train)\n",
    "yh_lr_pred = best_lr_h.predict(Xh_test)\n",
    "print(\"House Test (LR) R²:\", r2_score(yh_test, yh_lr_pred),\n",
    "      \"MAE:\", mean_absolute_error(yh_test, yh_lr_pred))"
   ]
  },
  {
   "cell_type": "code",
   "execution_count": 61,
   "id": "5f5f4612",
   "metadata": {},
   "outputs": [
    {
     "name": "stdout",
     "output_type": "stream",
     "text": [
      "Parkinsons Test (LR) R²: 0.10175040386290357 MAE: 8.249848609060109\n"
     ]
    }
   ],
   "source": [
    "# Extraer top-1 de Parkinsons\n",
    "best_p = df_p_lr.iloc[0]\n",
    "best_lr_p = SequentialEnsembleRegressor(\n",
    "    estimator=LinearRegression(),\n",
    "    n_estimators=int(best_p['n_estimators']),\n",
    "    lr=float(best_p['lr']),\n",
    "    sample_size=float(best_p['sample_size']),\n",
    "    random_state=42,\n",
    "    fit_intercept=bool(best_p['fit_intercept'])\n",
    ")\n",
    "best_lr_p.fit(Xp_train, yp_train)\n",
    "yp_lr_pred = best_lr_p.predict(Xp_test)\n",
    "print(\"Parkinsons Test (LR) R²:\", r2_score(yp_test, yp_lr_pred),\n",
    "      \"MAE:\", mean_absolute_error(yp_test, yp_lr_pred))"
   ]
  },
  {
   "cell_type": "markdown",
   "id": "d989ba89",
   "metadata": {},
   "source": [
    "EarlyStoping"
   ]
  },
  {
   "cell_type": "code",
   "execution_count": 62,
   "id": "0f3e2f04",
   "metadata": {},
   "outputs": [
    {
     "name": "stdout",
     "output_type": "stream",
     "text": [
      "House (LR + early stopping) R²: 0.7914746899568399\n",
      "House (LR + early stopping) MAE: 24716.9139875049\n"
     ]
    }
   ],
   "source": [
    "es_lr = SequentialEnsembleRegressorEarlyStopping(\n",
    "    estimator=LinearRegression(),\n",
    "    n_estimators=100,\n",
    "    sample_size=1.0,      # en tu grid buscaste sample_size=1.0\n",
    "    lr=0.1,\n",
    "    random_state=42,\n",
    "    patience=10,          # tolera 10 iteraciones sin mejora\n",
    "    fit_intercept=True    # o False, según tu mejor combo\n",
    ")\n",
    "es_lr.fit(Xh_train, yh_train)\n",
    "yh_es_lr = es_lr.predict(Xh_test)\n",
    "\n",
    "print(\"House (LR + early stopping) R²:\", r2_score(yh_test, yh_es_lr))\n",
    "print(\"House (LR + early stopping) MAE:\", mean_absolute_error(yh_test, yh_es_lr))"
   ]
  },
  {
   "cell_type": "code",
   "execution_count": 63,
   "id": "b4b0a26a",
   "metadata": {},
   "outputs": [
    {
     "name": "stdout",
     "output_type": "stream",
     "text": [
      "Parkinsons (LR + early stopping) R²: 0.1430420079518817\n",
      "Parkinsons (LR + early stopping) MAE: 8.11477793461102\n"
     ]
    }
   ],
   "source": [
    "es_lr_p = SequentialEnsembleRegressorEarlyStopping(\n",
    "    estimator=LinearRegression(),\n",
    "    n_estimators=100,\n",
    "    sample_size=0.8,\n",
    "    lr=0.2,\n",
    "    random_state=42,\n",
    "    patience=10,\n",
    "    fit_intercept=True\n",
    ")\n",
    "es_lr_p.fit(Xp_train, yp_train)\n",
    "yp_es_lr = es_lr_p.predict(Xp_test)\n",
    "\n",
    "print(\"Parkinsons (LR + early stopping) R²:\", r2_score(yp_test, yp_es_lr))\n",
    "print(\"Parkinsons (LR + early stopping) MAE:\", mean_absolute_error(yp_test, yp_es_lr))"
   ]
  },
  {
   "cell_type": "code",
   "execution_count": null,
   "id": "45f04375",
   "metadata": {},
   "outputs": [],
   "source": []
  }
 ],
 "metadata": {
  "kernelspec": {
   "display_name": "base",
   "language": "python",
   "name": "python3"
  },
  "language_info": {
   "codemirror_mode": {
    "name": "ipython",
    "version": 3
   },
   "file_extension": ".py",
   "mimetype": "text/x-python",
   "name": "python",
   "nbconvert_exporter": "python",
   "pygments_lexer": "ipython3",
   "version": "3.12.7"
  }
 },
 "nbformat": 4,
 "nbformat_minor": 5
}
