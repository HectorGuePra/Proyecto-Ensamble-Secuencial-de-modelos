{
 "cells": [
  {
   "cell_type": "code",
   "execution_count": null,
   "id": "2e983b20",
   "metadata": {},
   "outputs": [],
   "source": [
    "#Prueba1"
   ]
  }
 ],
 "metadata": {
  "language_info": {
   "name": "python"
  }
 },
 "nbformat": 4,
 "nbformat_minor": 5
}
